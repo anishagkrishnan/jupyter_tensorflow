{
  "cells": [
    {
      "cell_type": "code",
      "source": [
        "from google.colab import drive\n",
        "drive.mount('/content/gdrive')"
      ],
      "metadata": {
        "colab": {
          "base_uri": "https://localhost:8080/"
        },
        "id": "vb3g4yeNzEPz",
        "outputId": "588f10c4-bd56-4403-86d2-f5b54a926bef"
      },
      "id": "vb3g4yeNzEPz",
      "execution_count": 1,
      "outputs": [
        {
          "output_type": "stream",
          "name": "stdout",
          "text": [
            "Mounted at /content/gdrive\n"
          ]
        }
      ]
    },
    {
      "cell_type": "code",
      "execution_count": 39,
      "id": "f709cc9a",
      "metadata": {
        "id": "f709cc9a"
      },
      "outputs": [],
      "source": [
        "import warnings\n",
        "warnings.filterwarnings('ignore')"
      ]
    },
    {
      "cell_type": "code",
      "execution_count": 40,
      "id": "2531cba4",
      "metadata": {
        "id": "2531cba4"
      },
      "outputs": [],
      "source": [
        "#importing necessary libraries \n",
        "import pandas as pd\n",
        "import numpy as np\n",
        "import json\n",
        "from scipy.io import wavfile\n",
        "import matplotlib.pyplot as plt\n",
        "import wave\n",
        "import sys, os\n",
        "samplerate=48000\n",
        "#empty dataframe\n",
        "df = pd.DataFrame()\n",
        "import cv2\n",
        "from sklearn.preprocessing import MinMaxScaler\n",
        "import os\n",
        "import librosa\n",
        "import librosa.display\n",
        "import IPython.display as ipd\n",
        "import numpy as np\n",
        "import matplotlib.pyplot as plt"
      ]
    },
    {
      "cell_type": "code",
      "execution_count": 7,
      "id": "b6528f59",
      "metadata": {
        "id": "b6528f59"
      },
      "outputs": [],
      "source": [
        "FRAME_SIZE = 1024\n",
        "HOP_SIZE = 512"
      ]
    },
    {
      "cell_type": "code",
      "execution_count": null,
      "id": "402a7435",
      "metadata": {
        "id": "402a7435"
      },
      "outputs": [],
      "source": [
        "#import os\n",
        "#os.listdir(\"/content/gdrive/MyDrive/Miniproject1/Hyper_disease\")\n",
        "sacle,sr = librosa"
      ]
    },
    {
      "cell_type": "code",
      "source": [
        "def plot_spectrogram(Y, sr, hop_length, opfile, y_axis=\"linear\"):\n",
        "    plt.figure()\n",
        "    librosa.display.specshow(Y,  fmax=8000, );\n",
        "    plt.savefig(opfile)\n",
        "    plt.close()\n"
      ],
      "metadata": {
        "id": "-gldoJbAHG3k"
      },
      "id": "-gldoJbAHG3k",
      "execution_count": 67,
      "outputs": []
    },
    {
      "cell_type": "code",
      "source": [
        "root=\"/content/gdrive/MyDrive/Miniproject1/Vocal_disease\"\n",
        "opfolder = \"/content/gdrive/MyDrive/MINIPROMEL/r2\"\n",
        "for i in os.listdir(root):\n",
        "  if i.endswith('.wav'):\n",
        "    print(i)\n",
        "    y, sr = librosa.load(root+ \"/\"+i)\n",
        "    name_file = os.path.splitext(i)[0]+\".png\"\n",
        "    mel_spect = librosa.feature.melspectrogram(y=y, sr=sr, n_fft=2048, hop_length=1024)\n",
        "    mel_spect = librosa.power_to_db(mel_spect, ref=np.max)\n",
        "    #librosa.display.specshow(mel_spect,  fmax=8000, );\n",
        "\n",
        "    opfile = os.path.join(opfolder, name_file)\n",
        "    #plt.savefig(opfile)\n",
        "    #plt.close()\n",
        "    plot_spectrogram(mel_spect, sr, 512, opfile, y_axis=\"linear\")\n"
      ],
      "metadata": {
        "id": "5flaIRTpC-F2"
      },
      "id": "5flaIRTpC-F2",
      "execution_count": null,
      "outputs": []
    },
    {
      "cell_type": "code",
      "source": [],
      "metadata": {
        "id": "KIRwOyHKJk2W"
      },
      "id": "KIRwOyHKJk2W",
      "execution_count": null,
      "outputs": []
    }
  ],
  "metadata": {
    "kernelspec": {
      "display_name": "Python 3 (ipykernel)",
      "language": "python",
      "name": "python3"
    },
    "language_info": {
      "codemirror_mode": {
        "name": "ipython",
        "version": 3
      },
      "file_extension": ".py",
      "mimetype": "text/x-python",
      "name": "python",
      "nbconvert_exporter": "python",
      "pygments_lexer": "ipython3",
      "version": "3.9.12"
    },
    "colab": {
      "provenance": [],
      "collapsed_sections": []
    }
  },
  "nbformat": 4,
  "nbformat_minor": 5
}